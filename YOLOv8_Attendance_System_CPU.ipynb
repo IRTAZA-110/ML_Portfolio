
{
 "cells": [
  {
   "cell_type": "markdown",
   "metadata": {},
   "source": [
    "# 🧑‍💻 Face Attendance System using YOLOv8 + Face Recognition (CPU-based)\n",
    "This notebook simulates a practical attendance system using:\n",
    "- YOLOv8 (Ultralytics)\n",
    "- face_recognition (dlib-based)\n",
    "- OpenCV\n",
    "- CSV for attendance\n",
    "\n",
    "⚠️ Live webcam is not supported on Colab, so we'll use uploaded video/image."
   ]
  },
  {
   "cell_type": "code",
   "execution_count": null,
   "metadata": {},
   "outputs": [],
   "source": [
    "# ✅ Install Required Packages\n",
    "!pip install -q ultralytics face_recognition opencv-python"
   ]
  },
  {
   "cell_type": "code",
   "execution_count": null,
   "metadata": {},
   "outputs": [],
   "source": [
    "# ✅ Import Libraries\n",
    "import cv2\n",
    "import face_recognition\n",
    "from ultralytics import YOLO\n",
    "import numpy as np\n",
    "from datetime import datetime\n",
    "import csv\n",
    "from google.colab.patches import cv2_imshow"
   ]
  },
  {
   "cell_type": "markdown",
   "metadata": {},
   "source": [
    "## 📁 Upload Known Faces (Images with clear front-facing faces)"
   ]
  },
  {
   "cell_type": "code",
   "execution_count": null,
   "metadata": {},
   "outputs": [],
   "source": [
    "from google.colab import files\n",
    "uploaded = files.upload()\n",
    "known_encodings = []\n",
    "known_names = []\n",
    "\n",
    "for filename in uploaded.keys():\n",
    "    img = face_recognition.load_image_file(filename)\n",
    "    enc = face_recognition.face_encodings(img)\n",
    "    if enc:\n",
    "        known_encodings.append(enc[0])\n",
    "        known_names.append(filename.split('.')[0])"
   ]
  },
  {
   "cell_type": "markdown",
   "metadata": {},
   "source": [
    "## 📹 Upload a Test Video (MP4 preferred)"
   ]
  },
  {
   "cell_type": "code",
   "execution_count": null,
   "metadata": {},
   "outputs": [],
   "source": [
    "video_upload = files.upload()\n",
    "video_path = list(video_upload.keys())[0]"
   ]
  },
  {
   "cell_type": "markdown",
   "metadata": {},
   "source": [
    "## 🧠 Attendance Function"
   ]
  },
  {
   "cell_type": "code",
   "execution_count": null,
   "metadata": {},
   "outputs": [],
   "source": [
    "attendance_list = []\n",
    "def mark_attendance(name):\n",
    "    if name not in attendance_list:\n",
    "        attendance_list.append(name)\n",
    "        with open("attendance.csv", "a") as f:\n",
    "            f.write(f"{name},{datetime.now().strftime('%H:%M:%S')}\n")"
   ]
  },
  {
   "cell_type": "markdown",
   "metadata": {},
   "source": [
    "## 🔍 Detect and Mark Attendance from Video"
   ]
  },
  {
   "cell_type": "code",
   "execution_count": null,
   "metadata": {},
   "outputs": [],
   "source": [
    "model = YOLO('yolov8n.pt')\n",
    "cap = cv2.VideoCapture(video_path)\n",
    "while cap.isOpened():\n",
    "    ret, frame = cap.read()\n",
    "    if not ret:\n",
    "        break\n",
    "    results = model(frame)[0]\n",
    "    for box in results.boxes:\n",
    "        x1, y1, x2, y2 = map(int, box.xyxy[0].tolist())\n",
    "        face_crop = frame[y1:y2, x1:x2]\n",
    "        enc = face_recognition.face_encodings(face_crop)\n",
    "        if enc:\n",
    "            matches = face_recognition.compare_faces(known_encodings, enc[0])\n",
    "            if True in matches:\n",
    "                name = known_names[matches.index(True)]\n",
    "                mark_attendance(name)\n",
    "                cv2.rectangle(frame, (x1, y1), (x2, y2), (0,255,0), 2)\n",
    "                cv2.putText(frame, name, (x1, y1-10), cv2.FONT_HERSHEY_SIMPLEX, 0.9, (0,255,0), 2)\n",
    "    cv2_imshow(frame)\n",
    "    if cv2.waitKey(1) & 0xFF == ord('q'):\n",
    "        break\n",
    "cap.release()"
   ]
  }
 ],
 "metadata": {
  "colab": {
   "provenance": []
  },
  "kernelspec": {
   "display_name": "Python 3",
   "language": "python",
   "name": "python3"
  },
  "language_info": {
   "name": "python"
  }
 },
 "nbformat": 4,
 "nbformat_minor": 0
}
